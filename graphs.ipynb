{
 "cells": [
  {
   "cell_type": "markdown",
   "id": "073ae478-975c-4f20-bd73-642751295c9f",
   "metadata": {},
   "source": [
    "# Grafer fra Polnet"
   ]
  },
  {
   "cell_type": "code",
   "execution_count": 68,
   "id": "94443d58-37ba-441c-8667-a5229618f883",
   "metadata": {},
   "outputs": [],
   "source": [
    "files = !ls\n",
    "files = [f for f in files if f.startswith(\"subgraph_png\")]"
   ]
  },
  {
   "cell_type": "code",
   "execution_count": 69,
   "id": "60f2c248-6c4b-484f-8288-6cd6f2d09641",
   "metadata": {},
   "outputs": [],
   "source": [
    "text = \"\"\n",
    "for f in files:\n",
    "    text += f\"![]({f})\\n\\n\""
   ]
  },
  {
   "cell_type": "code",
   "execution_count": 82,
   "id": "76246fbb-0f1d-4729-b6fe-22f8e097be57",
   "metadata": {},
   "outputs": [],
   "source": [
    "rows = \"\"\n",
    "text_wrapper = lambda x: f\"<html><body><table>{x}</table></body>\"\n",
    "cell = lambda x: f\"<td><img src='{x}'></td>\"\n",
    "row = lambda x: f\"<tr>{x}</tr>\"\n",
    "num_cols = 4"
   ]
  },
  {
   "cell_type": "code",
   "execution_count": 112,
   "id": "c9fa95a4-bd73-4c23-bad9-177f67d92354",
   "metadata": {},
   "outputs": [],
   "source": [
    "def make_grid(cols=3):\n",
    "    line_start = 0\n",
    "    rows = \"\"\n",
    "    while line_start < len(files):\n",
    "    #    if line_start + 1 <= len(files):\n",
    "        ix = line_start\n",
    "        a_row = \"\"\n",
    "        while ix < line_start + cols:\n",
    "            try:\n",
    "                a_row += cell(files[ix])\n",
    "            except:\n",
    "                break\n",
    "            ix += 1\n",
    "        line_start += cols\n",
    "        rows += row(a_row) + \"\\n\"\n",
    "    return text_wrapper(rows)    "
   ]
  },
  {
   "cell_type": "code",
   "execution_count": 114,
   "id": "344c65cd-73dc-4e8c-818c-5acc32bb0b09",
   "metadata": {},
   "outputs": [
    {
     "data": {
      "text/html": [
       "<html><body><table><tr><td><img src='subgraph_png_0.png'></td></tr>\n",
       "<tr><td><img src='subgraph_png_10.png'></td></tr>\n",
       "<tr><td><img src='subgraph_png_1.png'></td></tr>\n",
       "<tr><td><img src='subgraph_png_2.png'></td></tr>\n",
       "<tr><td><img src='subgraph_png_3.png'></td></tr>\n",
       "<tr><td><img src='subgraph_png_4.png'></td></tr>\n",
       "<tr><td><img src='subgraph_png_5.png'></td></tr>\n",
       "<tr><td><img src='subgraph_png_6.png'></td></tr>\n",
       "<tr><td><img src='subgraph_png_7.png'></td></tr>\n",
       "<tr><td><img src='subgraph_png_8.png'></td></tr>\n",
       "<tr><td><img src='subgraph_png_9.png'></td></tr>\n",
       "</table></body>"
      ],
      "text/plain": [
       "<IPython.core.display.HTML object>"
      ]
     },
     "execution_count": 114,
     "metadata": {},
     "output_type": "execute_result"
    }
   ],
   "source": [
    "HTML(make_grid(1))"
   ]
  },
  {
   "cell_type": "code",
   "execution_count": null,
   "id": "25811e5b-320f-44fb-90d0-c49fcbb685af",
   "metadata": {},
   "outputs": [],
   "source": []
  }
 ],
 "metadata": {
  "kernelspec": {
   "display_name": "Python 3 (ipykernel)",
   "language": "python",
   "name": "python3"
  },
  "language_info": {
   "codemirror_mode": {
    "name": "ipython",
    "version": 3
   },
   "file_extension": ".py",
   "mimetype": "text/x-python",
   "name": "python",
   "nbconvert_exporter": "python",
   "pygments_lexer": "ipython3",
   "version": "3.9.15"
  }
 },
 "nbformat": 4,
 "nbformat_minor": 5
}
